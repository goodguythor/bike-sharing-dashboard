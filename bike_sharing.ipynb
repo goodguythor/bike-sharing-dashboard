{
  "cells": [
    {
      "cell_type": "markdown",
      "metadata": {
        "id": "H9wADwK78DCz"
      },
      "source": [
        "# Proyek Analisis Data: Bike Sharing Dataset\n",
        "- **Nama:** Thoriqutsani Anastyo Rasnan\n",
        "- **Email:** thoriq.rasnan@gmail.com\n",
        "- **ID Dicoding:** thoriririri8888"
      ]
    },
    {
      "cell_type": "markdown",
      "metadata": {
        "id": "eE0raob58DC0"
      },
      "source": [
        "## Menentukan Pertanyaan Bisnis"
      ]
    },
    {
      "cell_type": "markdown",
      "metadata": {
        "id": "GmQeQ5YF8DC0"
      },
      "source": [
        "- Apakah cuaca berpengaruh pada jumlah sepeda yang disewa?\n",
        "- Kapan penyewaan sepeda mengalami \"peak hour\"?"
      ]
    },
    {
      "cell_type": "markdown",
      "metadata": {
        "id": "H-z4QGlO8DC1"
      },
      "source": [
        "## Import Semua Packages/Library yang Digunakan"
      ]
    },
    {
      "cell_type": "code",
      "execution_count": 350,
      "metadata": {
        "id": "FVYwaObI8DC1"
      },
      "outputs": [],
      "source": [
        "import pandas as pd\n",
        "import numpy as np\n",
        "import matplotlib.pyplot as plt"
      ]
    },
    {
      "cell_type": "markdown",
      "metadata": {
        "id": "h_Sh51Xy8DC1"
      },
      "source": [
        "## Data Wrangling"
      ]
    },
    {
      "cell_type": "markdown",
      "metadata": {
        "id": "sXU2GBYu8DC1"
      },
      "source": [
        "### Gathering Data"
      ]
    },
    {
      "cell_type": "code",
      "execution_count": 351,
      "metadata": {
        "id": "zjCBk1BI8DC1"
      },
      "outputs": [
        {
          "name": "stdout",
          "output_type": "stream",
          "text": [
            "Daily Bike Sharing Data\n",
            "<class 'pandas.core.frame.DataFrame'>\n",
            "RangeIndex: 731 entries, 0 to 730\n",
            "Data columns (total 16 columns):\n",
            " #   Column      Non-Null Count  Dtype  \n",
            "---  ------      --------------  -----  \n",
            " 0   instant     731 non-null    int64  \n",
            " 1   dteday      731 non-null    object \n",
            " 2   season      731 non-null    int64  \n",
            " 3   yr          731 non-null    int64  \n",
            " 4   mnth        731 non-null    int64  \n",
            " 5   holiday     731 non-null    int64  \n",
            " 6   weekday     731 non-null    int64  \n",
            " 7   workingday  731 non-null    int64  \n",
            " 8   weathersit  731 non-null    int64  \n",
            " 9   temp        731 non-null    float64\n",
            " 10  atemp       731 non-null    float64\n",
            " 11  hum         731 non-null    float64\n",
            " 12  windspeed   731 non-null    float64\n",
            " 13  casual      731 non-null    int64  \n",
            " 14  registered  731 non-null    int64  \n",
            " 15  cnt         731 non-null    int64  \n",
            "dtypes: float64(4), int64(11), object(1)\n",
            "memory usage: 91.5+ KB\n",
            "None\n"
          ]
        }
      ],
      "source": [
        "# read both daily and hourly csv file\n",
        "daily_data = pd.read_csv('dataset/day.csv')\n",
        "print('Daily Bike Sharing Data')\n",
        "print(daily_data.info())"
      ]
    },
    {
      "cell_type": "code",
      "execution_count": 352,
      "metadata": {},
      "outputs": [
        {
          "name": "stdout",
          "output_type": "stream",
          "text": [
            "Hourly Bike Sharing Data\n",
            "<class 'pandas.core.frame.DataFrame'>\n",
            "RangeIndex: 17379 entries, 0 to 17378\n",
            "Data columns (total 17 columns):\n",
            " #   Column      Non-Null Count  Dtype  \n",
            "---  ------      --------------  -----  \n",
            " 0   instant     17379 non-null  int64  \n",
            " 1   dteday      17379 non-null  object \n",
            " 2   season      17379 non-null  int64  \n",
            " 3   yr          17379 non-null  int64  \n",
            " 4   mnth        17379 non-null  int64  \n",
            " 5   hr          17379 non-null  int64  \n",
            " 6   holiday     17379 non-null  int64  \n",
            " 7   weekday     17379 non-null  int64  \n",
            " 8   workingday  17379 non-null  int64  \n",
            " 9   weathersit  17379 non-null  int64  \n",
            " 10  temp        17379 non-null  float64\n",
            " 11  atemp       17379 non-null  float64\n",
            " 12  hum         17379 non-null  float64\n",
            " 13  windspeed   17379 non-null  float64\n",
            " 14  casual      17379 non-null  int64  \n",
            " 15  registered  17379 non-null  int64  \n",
            " 16  cnt         17379 non-null  int64  \n",
            "dtypes: float64(4), int64(12), object(1)\n",
            "memory usage: 2.3+ MB\n",
            "None\n"
          ]
        }
      ],
      "source": [
        "hourly_data = pd.read_csv('dataset/hour.csv')\n",
        "print('Hourly Bike Sharing Data')\n",
        "print(hourly_data.info())"
      ]
    },
    {
      "cell_type": "markdown",
      "metadata": {
        "id": "MMi6xGaDkbCi"
      },
      "source": [
        "**Insight:**\n",
        "- Daily bike sharing data have 16 columns & 731 rows\n",
        "- Hourly bike sharing data have 17 columns & 17379 rows\n",
        "- The only differences between daily and hourly data is the 'hr' column which stand for hour that only exist in the hourly dataset"
      ]
    },
    {
      "cell_type": "markdown",
      "metadata": {
        "id": "FHSiqaZp8DC1"
      },
      "source": [
        "### Assessing Data"
      ]
    },
    {
      "cell_type": "code",
      "execution_count": 353,
      "metadata": {},
      "outputs": [
        {
          "name": "stdout",
          "output_type": "stream",
          "text": [
            "instant       0\n",
            "dteday        0\n",
            "season        0\n",
            "yr            0\n",
            "mnth          0\n",
            "holiday       0\n",
            "weekday       0\n",
            "workingday    0\n",
            "weathersit    0\n",
            "temp          0\n",
            "atemp         0\n",
            "hum           0\n",
            "windspeed     0\n",
            "casual        0\n",
            "registered    0\n",
            "cnt           0\n",
            "dtype: int64\n",
            "0\n"
          ]
        }
      ],
      "source": [
        "print(daily_data.isnull().sum())\n",
        "print(daily_data.duplicated().sum())"
      ]
    },
    {
      "cell_type": "code",
      "execution_count": 354,
      "metadata": {
        "id": "ax-3tEjc9Cj1"
      },
      "outputs": [
        {
          "name": "stdout",
          "output_type": "stream",
          "text": [
            "instant       0\n",
            "dteday        0\n",
            "season        0\n",
            "yr            0\n",
            "mnth          0\n",
            "hr            0\n",
            "holiday       0\n",
            "weekday       0\n",
            "workingday    0\n",
            "weathersit    0\n",
            "temp          0\n",
            "atemp         0\n",
            "hum           0\n",
            "windspeed     0\n",
            "casual        0\n",
            "registered    0\n",
            "cnt           0\n",
            "dtype: int64\n",
            "0\n",
            "instant         0\n",
            "dteday          0\n",
            "season          0\n",
            "yr              0\n",
            "mnth            0\n",
            "hr              0\n",
            "holiday         0\n",
            "weekday         0\n",
            "workingday      0\n",
            "weathersit      0\n",
            "temp          0.0\n",
            "atemp         0.0\n",
            "hum           0.0\n",
            "windspeed     0.0\n",
            "casual          0\n",
            "registered      0\n",
            "cnt             0\n",
            "dtype: object\n"
          ]
        }
      ],
      "source": [
        "print(hourly_data.isnull().sum())\n",
        "print(hourly_data.duplicated().sum())\n",
        "print(hourly_data[(hourly_data['hr']>23) | (hourly_data['hr']<0)].sum())"
      ]
    },
    {
      "cell_type": "markdown",
      "metadata": {
        "id": "7dtxhAPrkhPL"
      },
      "source": [
        "**Insight:**\n",
        "- Both dataset don't have any null and duplicated data\n",
        "- There's no invalid hour data in the hourly dataset"
      ]
    },
    {
      "cell_type": "markdown",
      "metadata": {},
      "source": [
        "### Labeling Data"
      ]
    },
    {
      "cell_type": "markdown",
      "metadata": {},
      "source": [
        "#### Label the season and weather data"
      ]
    },
    {
      "cell_type": "code",
      "execution_count": 355,
      "metadata": {
        "id": "jVnYpprE9Evz"
      },
      "outputs": [],
      "source": [
        "daily_data['season'] = daily_data['season'].replace({1: 'Winter', 2: 'Spring', 3: 'Summer', 4: 'Fall'})\n",
        "hourly_data['season'] = hourly_data['season'].replace({1: 'Winter', 2: 'Spring', 3: 'Summer', 4: 'Fall'})"
      ]
    },
    {
      "cell_type": "code",
      "execution_count": 356,
      "metadata": {},
      "outputs": [],
      "source": [
        "daily_data['weathersit'] = daily_data['weathersit'].replace({1: 'Clear/Cloudy', 2: 'Mist', 3: 'Light Rain/Snow', 4: 'Heavy Rain/Snow'})\n",
        "hourly_data['weathersit'] = hourly_data['weathersit'].replace({1: 'Clear/Cloudy', 2: 'Mist', 3: 'Light Rain/Snow', 4: 'Heavy Rain/Snow'})"
      ]
    },
    {
      "cell_type": "markdown",
      "metadata": {},
      "source": [
        "#### Turn the workingday data into a more readable format"
      ]
    },
    {
      "cell_type": "code",
      "execution_count": 357,
      "metadata": {},
      "outputs": [],
      "source": [
        "daily_data['workingday'] = daily_data['workingday'].replace({1: 'Yes', 0: 'No'})\n",
        "hourly_data['workingday'] = hourly_data['workingday'].replace({1: 'Yes', 0: 'No'})"
      ]
    },
    {
      "cell_type": "markdown",
      "metadata": {},
      "source": [
        "#### Categorize hour into time of the day"
      ]
    },
    {
      "cell_type": "code",
      "execution_count": 358,
      "metadata": {},
      "outputs": [],
      "source": [
        "def categorize_hour(hour):\n",
        "    if 6<=hour<12:\n",
        "        return 'Morning'\n",
        "    elif 12<=hour<17:\n",
        "        return 'Afternoon'\n",
        "    elif 17<=hour<=21:\n",
        "        return 'Evening'\n",
        "    else:\n",
        "        return 'Night'\n",
        "    \n",
        "hourly_data['time_of_day'] = hourly_data['hr'].apply(categorize_hour)"
      ]
    },
    {
      "cell_type": "markdown",
      "metadata": {},
      "source": [
        "**Insight:**\n",
        "- season, weathersit, and cnt columns are labeled into a more readable format.\n",
        "- add new column called 'time of the day' to categorized hour into 4 time of the day."
      ]
    },
    {
      "cell_type": "markdown",
      "metadata": {
        "id": "gp-Y6wU38DC1"
      },
      "source": [
        "## Exploratory Data Analysis (EDA)"
      ]
    },
    {
      "cell_type": "markdown",
      "metadata": {
        "id": "MW7WF2kr8DC1"
      },
      "source": [
        "### Check the average of daily bike shared count per season"
      ]
    },
    {
      "cell_type": "code",
      "execution_count": 359,
      "metadata": {
        "id": "e9CQCZjk8DC2"
      },
      "outputs": [
        {
          "data": {
            "text/plain": [
              "season\n",
              "Fall      4728.162921\n",
              "Spring    4992.331522\n",
              "Summer    5644.303191\n",
              "Winter    2604.132597\n",
              "Name: cnt, dtype: float64"
            ]
          },
          "execution_count": 359,
          "metadata": {},
          "output_type": "execute_result"
        }
      ],
      "source": [
        "avg_per_season = daily_data.groupby('season')['cnt'].mean()\n",
        "avg_per_season"
      ]
    },
    {
      "cell_type": "markdown",
      "metadata": {},
      "source": [
        "### Check the average temperature per season"
      ]
    },
    {
      "cell_type": "code",
      "execution_count": 360,
      "metadata": {},
      "outputs": [
        {
          "data": {
            "text/plain": [
              "season\n",
              "Fall      0.422906\n",
              "Spring    0.544405\n",
              "Summer    0.706309\n",
              "Winter    0.297748\n",
              "Name: temp, dtype: float64"
            ]
          },
          "execution_count": 360,
          "metadata": {},
          "output_type": "execute_result"
        }
      ],
      "source": [
        "temp_avg_per_season = daily_data.groupby('season')['temp'].mean()\n",
        "temp_avg_per_season"
      ]
    },
    {
      "cell_type": "markdown",
      "metadata": {},
      "source": [
        "### Check the average of daily bike shared count per weather condition"
      ]
    },
    {
      "cell_type": "code",
      "execution_count": 361,
      "metadata": {},
      "outputs": [
        {
          "data": {
            "text/plain": [
              "weathersit\n",
              "Clear/Cloudy       4876.786177\n",
              "Light Rain/Snow    1803.285714\n",
              "Mist               4035.862348\n",
              "Name: cnt, dtype: float64"
            ]
          },
          "execution_count": 361,
          "metadata": {},
          "output_type": "execute_result"
        }
      ],
      "source": [
        "avg_per_weather = daily_data.groupby('weathersit')['cnt'].mean()\n",
        "avg_per_weather"
      ]
    },
    {
      "cell_type": "markdown",
      "metadata": {},
      "source": [
        "### Check the average temperature per weather condition"
      ]
    },
    {
      "cell_type": "code",
      "execution_count": 362,
      "metadata": {},
      "outputs": [
        {
          "data": {
            "text/plain": [
              "weathersit\n",
              "Clear/Cloudy       0.511541\n",
              "Light Rain/Snow    0.433440\n",
              "Mist               0.470366\n",
              "Name: temp, dtype: float64"
            ]
          },
          "execution_count": 362,
          "metadata": {},
          "output_type": "execute_result"
        }
      ],
      "source": [
        "temp_avg_per_weather = daily_data.groupby('weathersit')['temp'].mean()\n",
        "temp_avg_per_weather"
      ]
    },
    {
      "cell_type": "markdown",
      "metadata": {},
      "source": [
        "### Check the average of bike shared count grouped by season and weather"
      ]
    },
    {
      "cell_type": "code",
      "execution_count": 371,
      "metadata": {},
      "outputs": [
        {
          "data": {
            "text/plain": [
              "season  weathersit     \n",
              "Fall    Clear/Cloudy       5043.563107\n",
              "        Light Rain/Snow    1961.600000\n",
              "        Mist               4654.000000\n",
              "Spring  Clear/Cloudy       5548.548673\n",
              "        Light Rain/Snow    1169.000000\n",
              "        Mist               4236.705882\n",
              "Summer  Clear/Cloudy       5878.257353\n",
              "        Light Rain/Snow    2751.750000\n",
              "        Mist               5222.479167\n",
              "Winter  Clear/Cloudy       2811.135135\n",
              "        Light Rain/Snow     934.750000\n",
              "        Mist               2357.166667\n",
              "Name: cnt, dtype: float64"
            ]
          },
          "execution_count": 371,
          "metadata": {},
          "output_type": "execute_result"
        }
      ],
      "source": [
        "avg_per_season_and_weather = daily_data.groupby(['season', 'weathersit'])['cnt'].mean()\n",
        "avg_per_season_and_weather"
      ]
    },
    {
      "cell_type": "markdown",
      "metadata": {},
      "source": [
        "### Check the average temperature grouped by season and weather"
      ]
    },
    {
      "cell_type": "code",
      "execution_count": 364,
      "metadata": {},
      "outputs": [
        {
          "data": {
            "text/plain": [
              "season  weathersit     \n",
              "Fall    Clear/Cloudy       0.404918\n",
              "        Light Rain/Snow    0.456341\n",
              "        Mist               0.446267\n",
              "Spring  Clear/Cloudy       0.563402\n",
              "        Light Rain/Snow    0.365278\n",
              "        Mist               0.520739\n",
              "Summer  Clear/Cloudy       0.720862\n",
              "        Light Rain/Snow    0.592228\n",
              "        Mist               0.674583\n",
              "Winter  Clear/Cloudy       0.301221\n",
              "        Light Rain/Snow    0.268523\n",
              "        Mist               0.293678\n",
              "Name: temp, dtype: float64"
            ]
          },
          "execution_count": 364,
          "metadata": {},
          "output_type": "execute_result"
        }
      ],
      "source": [
        "temp_avg_per_season_and_weather = daily_data.groupby(['season', 'weathersit'])['temp'].mean()\n",
        "temp_avg_per_season_and_weather"
      ]
    },
    {
      "cell_type": "markdown",
      "metadata": {},
      "source": [
        "### Check the average bike shared per time of the day"
      ]
    },
    {
      "cell_type": "code",
      "execution_count": 365,
      "metadata": {},
      "outputs": [
        {
          "data": {
            "text/plain": [
              "time_of_day\n",
              "Afternoon    262.244719\n",
              "Evening      319.444261\n",
              "Morning      208.100688\n",
              "Night         46.416957\n",
              "Name: cnt, dtype: float64"
            ]
          },
          "execution_count": 365,
          "metadata": {},
          "output_type": "execute_result"
        }
      ],
      "source": [
        "avg_per_period = hourly_data.groupby('time_of_day')['cnt'].mean()\n",
        "avg_per_period"
      ]
    },
    {
      "cell_type": "markdown",
      "metadata": {},
      "source": [
        "### Check the average bike shared per day grouped by working day"
      ]
    },
    {
      "cell_type": "code",
      "execution_count": 373,
      "metadata": {},
      "outputs": [
        {
          "data": {
            "text/plain": [
              "workingday\n",
              "No     4330.168831\n",
              "Yes    4584.820000\n",
              "Name: cnt, dtype: float64"
            ]
          },
          "execution_count": 373,
          "metadata": {},
          "output_type": "execute_result"
        }
      ],
      "source": [
        "avg_per_workingday = daily_data.groupby('workingday')['cnt'].mean()\n",
        "avg_per_workingday"
      ]
    },
    {
      "cell_type": "markdown",
      "metadata": {},
      "source": [
        "### Check the average bike shared per hour"
      ]
    },
    {
      "cell_type": "code",
      "execution_count": 367,
      "metadata": {},
      "outputs": [
        {
          "data": {
            "text/plain": [
              "hr\n",
              "0      53.898072\n",
              "1      33.375691\n",
              "2      22.869930\n",
              "3      11.727403\n",
              "4       6.352941\n",
              "5      19.889819\n",
              "6      76.044138\n",
              "7     212.064649\n",
              "8     359.011004\n",
              "9     219.309491\n",
              "10    173.668501\n",
              "11    208.143054\n",
              "12    253.315934\n",
              "13    253.661180\n",
              "14    240.949246\n",
              "15    251.233196\n",
              "16    311.983562\n",
              "17    461.452055\n",
              "18    425.510989\n",
              "19    311.523352\n",
              "20    226.030220\n",
              "21    172.314560\n",
              "22    131.335165\n",
              "23     87.831044\n",
              "Name: cnt, dtype: float64"
            ]
          },
          "execution_count": 367,
          "metadata": {},
          "output_type": "execute_result"
        }
      ],
      "source": [
        "avg_per_hour = hourly_data.groupby('hr')['cnt'].mean()\n",
        "avg_per_hour"
      ]
    },
    {
      "cell_type": "markdown",
      "metadata": {},
      "source": [
        "### Check the average bike shared grouped by time of the day and working day"
      ]
    },
    {
      "cell_type": "code",
      "execution_count": 372,
      "metadata": {},
      "outputs": [
        {
          "data": {
            "text/html": [
              "<div>\n",
              "<style scoped>\n",
              "    .dataframe tbody tr th:only-of-type {\n",
              "        vertical-align: middle;\n",
              "    }\n",
              "\n",
              "    .dataframe tbody tr th {\n",
              "        vertical-align: top;\n",
              "    }\n",
              "\n",
              "    .dataframe thead th {\n",
              "        text-align: right;\n",
              "    }\n",
              "</style>\n",
              "<table border=\"1\" class=\"dataframe\">\n",
              "  <thead>\n",
              "    <tr style=\"text-align: right;\">\n",
              "      <th></th>\n",
              "      <th>time_of_day</th>\n",
              "      <th>workingday</th>\n",
              "      <th>cnt</th>\n",
              "    </tr>\n",
              "  </thead>\n",
              "  <tbody>\n",
              "    <tr>\n",
              "      <th>0</th>\n",
              "      <td>Afternoon</td>\n",
              "      <td>No</td>\n",
              "      <td>363.035498</td>\n",
              "    </tr>\n",
              "    <tr>\n",
              "      <th>1</th>\n",
              "      <td>Afternoon</td>\n",
              "      <td>Yes</td>\n",
              "      <td>215.492369</td>\n",
              "    </tr>\n",
              "    <tr>\n",
              "      <th>2</th>\n",
              "      <td>Evening</td>\n",
              "      <td>No</td>\n",
              "      <td>230.696785</td>\n",
              "    </tr>\n",
              "    <tr>\n",
              "      <th>3</th>\n",
              "      <td>Evening</td>\n",
              "      <td>Yes</td>\n",
              "      <td>360.451224</td>\n",
              "    </tr>\n",
              "    <tr>\n",
              "      <th>4</th>\n",
              "      <td>Morning</td>\n",
              "      <td>No</td>\n",
              "      <td>151.967486</td>\n",
              "    </tr>\n",
              "    <tr>\n",
              "      <th>5</th>\n",
              "      <td>Morning</td>\n",
              "      <td>Yes</td>\n",
              "      <td>234.205645</td>\n",
              "    </tr>\n",
              "    <tr>\n",
              "      <th>6</th>\n",
              "      <td>Night</td>\n",
              "      <td>No</td>\n",
              "      <td>57.625000</td>\n",
              "    </tr>\n",
              "    <tr>\n",
              "      <th>7</th>\n",
              "      <td>Night</td>\n",
              "      <td>Yes</td>\n",
              "      <td>41.185773</td>\n",
              "    </tr>\n",
              "  </tbody>\n",
              "</table>\n",
              "</div>"
            ],
            "text/plain": [
              "  time_of_day workingday         cnt\n",
              "0   Afternoon         No  363.035498\n",
              "1   Afternoon        Yes  215.492369\n",
              "2     Evening         No  230.696785\n",
              "3     Evening        Yes  360.451224\n",
              "4     Morning         No  151.967486\n",
              "5     Morning        Yes  234.205645\n",
              "6       Night         No   57.625000\n",
              "7       Night        Yes   41.185773"
            ]
          },
          "execution_count": 372,
          "metadata": {},
          "output_type": "execute_result"
        }
      ],
      "source": [
        "temp_avg_per_hour = hourly_data.groupby(['time_of_day', 'workingday'])['cnt'].mean()\n",
        "temp_avg_per_hour.reset_index()"
      ]
    },
    {
      "cell_type": "markdown",
      "metadata": {
        "id": "th_Lzl2Fkj9O"
      },
      "source": [
        "**Insight:**\n",
        "- Summer has the highest daily bike shared average compared to other season.\n",
        "- Summer also has the highest average temperature compared to other season.\n",
        "- Summer contribute to higher daily bike shared count which is likely due to it's warmer temperature.\n",
        "- The average bike shared on rainy/snowy days are lower than on other days.\n",
        "- Non rainy days contribute to higher daily bike shared count which is likely due to it's favorable weather conditions to ride.\n",
        "- Mist slightly affect the amount of bike shared count due to it limits people's visibility. \n",
        "- Safer weather condition contribute to higher bike shared.\n",
        "- Weather don't really affect much in terms of the temperature in each season.\n",
        "- The amount of bikes shared during the working days are slightly higher.\n",
        "- Bike sharing peaked around on 5-6 PM which coincides with the after work hours.\n",
        "- The amount of bikes shared during morning and evening are higher during the working days which is likely due to it's the time people go to work and go back from work.\n",
        "- The amount of bikes shared during afternoon are lower during the working days because more people are working at that time. \n",
        "- The amount of bikes shared during night time are lower during the working days because more people are tired from their work and prefer to rest.\n",
        "- Workers aren't the only main contributor to this bike sharing business."
      ]
    },
    {
      "cell_type": "markdown",
      "metadata": {
        "id": "zsyZjqak8DC2"
      },
      "source": [
        "## Visualization & Explanatory Analysis"
      ]
    },
    {
      "cell_type": "markdown",
      "metadata": {
        "id": "HZxOiQ6n8DC2"
      },
      "source": [
        "### Daily average bikes share grouped by season and weather"
      ]
    },
    {
      "cell_type": "code",
      "execution_count": 369,
      "metadata": {
        "id": "1swJUdAD8DC2"
      },
      "outputs": [
        {
          "data": {
            "image/png": "[encoded data removed]",
            "text/plain": [
              "<Figure size 1200x600 with 1 Axes>"
            ]
          },
          "metadata": {},
          "output_type": "display_data"
        }
      ],
      "source": [
        "plt.figure(figsize=(12, 6))\n",
        "\n",
        "# Plot as a grouped bar chart\n",
        "avg_per_season_and_weather.plot(kind='bar', stacked=False)\n",
        "\n",
        "# Adding titles and labels\n",
        "plt.title('Daily average bikes shared for each season and weather')\n",
        "plt.xlabel('Season, Weather')\n",
        "plt.ylabel('Daily average bikes shared')\n",
        "\n",
        "# Display the plot\n",
        "plt.tight_layout()  # Adjusts layout for better fit\n",
        "plt.show()"
      ]
    },
    {
      "cell_type": "markdown",
      "metadata": {},
      "source": [
        "**Insight:**\n",
        "- People prefer to rent a bike on a non rainy/snowy day"
      ]
    },
    {
      "cell_type": "markdown",
      "metadata": {},
      "source": [
        "### Daily average temperatures for each season and weather"
      ]
    },
    {
      "cell_type": "code",
      "execution_count": 370,
      "metadata": {},
      "outputs": [
        {
          "data": {
            "image/png": "[encoded data removed]",
            "text/plain": [
              "<Figure size 1200x600 with 1 Axes>"
            ]
          },
          "metadata": {},
          "output_type": "display_data"
        }
      ],
      "source": [
        "plt.figure(figsize=(12, 6))\n",
        "\n",
        "# Plot as a grouped bar chart\n",
        "temp_avg_per_season_and_weather.plot(kind='bar', stacked=False)\n",
        "\n",
        "# Adding titles and labels\n",
        "plt.title('Daily average temperatures for each season and weather')\n",
        "plt.xlabel('Season, Weather')\n",
        "plt.ylabel('Daily average temperatures')\n",
        "\n",
        "# Display the plot\n",
        "plt.tight_layout()  # Adjusts layout for better fit\n",
        "plt.show()"
      ]
    },
    {
      "cell_type": "markdown",
      "metadata": {
        "id": "DgHI7CiU8DC2"
      },
      "source": [
        "### Pertanyaan 2:"
      ]
    },
    {
      "cell_type": "code",
      "execution_count": null,
      "metadata": {
        "id": "Go0lCsvO8DC2"
      },
      "outputs": [],
      "source": []
    },
    {
      "cell_type": "markdown",
      "metadata": {
        "id": "_0-36BDLklRg"
      },
      "source": [
        "**Insight:**\n",
        "- xxx\n",
        "- xxx"
      ]
    },
    {
      "cell_type": "markdown",
      "metadata": {
        "id": "_WeHlCeX8DC2"
      },
      "source": [
        "## Conclusion"
      ]
    },
    {
      "cell_type": "markdown",
      "metadata": {
        "id": "ZTcyR48Y8DC2"
      },
      "source": [
        "- Conclution pertanyaan 1\n",
        "- Conclution pertanyaan 2"
      ]
    }
  ],
  "metadata": {
    "colab": {
      "provenance": []
    },
    "kernelspec": {
      "display_name": "Python 3",
      "language": "python",
      "name": "python3"
    },
    "language_info": {
      "codemirror_mode": {
        "name": "ipython",
        "version": 3
      },
      "file_extension": ".py",
      "mimetype": "text/x-python",
      "name": "python",
      "nbconvert_exporter": "python",
      "pygments_lexer": "ipython3",
      "version": "3.11.2"
    },
    "orig_nbformat": 4,
    "vscode": {
      "interpreter": {
        "hash": "972b3bf27e332e87b5379f2791f6ef9dfc79c71018c370b0d7423235e20fe4d7"
      }
    }
  },
  "nbformat": 4,
  "nbformat_minor": 0
}
